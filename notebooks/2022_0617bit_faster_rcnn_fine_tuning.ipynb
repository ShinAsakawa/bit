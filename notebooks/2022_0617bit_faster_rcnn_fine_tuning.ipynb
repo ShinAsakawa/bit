{
  "cells": [
    {
      "cell_type": "markdown",
      "metadata": {
        "id": "view-in-github",
        "colab_type": "text"
      },
      "source": [
        "<a href=\"https://colab.research.google.com/github/ShinAsakawa/bit/blob/main/notebooks/2022_0617bit_faster_rcnn_fine_tuning.ipynb\" target=\"_parent\"><img src=\"https://colab.research.google.com/assets/colab-badge.svg\" alt=\"Open In Colab\"/></a>"
      ]
    },
    {
      "cell_type": "markdown",
      "metadata": {
        "id": "XBJdUyBhb1J_"
      },
      "source": [
        "---\n",
        "- date: 2022_0604 original file written at 2022_0319\n",
        "- filename: 2022_0604bit_faster-rcnn_fine_tuning.ipynb\n",
        "- ref source: https://www.kaggle.com/yerramvarun/fine-tuning-faster-rcnn-using-pytorch/notebook\n",
        "---\n",
        "\n",
        "**注**: workers=0 で動作するので時間がかかる"
      ]
    },
    {
      "cell_type": "code",
      "source": [
        "# Google Drive からデータを入手\n",
        "# このセルを実行するとブラウザの別タブで Google アカウントへの認証が求められる\n",
        "# Google アカウントを選択するとクリデンシャルキーが表示されるので，そのキーを\n",
        "# コピーして，このセルの出力欄にある空欄に貼り付けてエンターキー (リターンキー) を押下する\n",
        "# Import PyDrive and associated libraries.\n",
        "# This only needs to be done once per notebook.\n",
        "from pydrive.auth import GoogleAuth\n",
        "from pydrive.drive import GoogleDrive\n",
        "from google.colab import auth\n",
        "from oauth2client.client import GoogleCredentials\n",
        "\n",
        "# Authenticate and create the PyDrive client.\n",
        "# This only needs to be done once per notebook.\n",
        "auth.authenticate_user()\n",
        "gauth = GoogleAuth()\n",
        "gauth.credentials = GoogleCredentials.get_application_default()\n",
        "drive = GoogleDrive(gauth)\n",
        "\n",
        "# 以下実際のデータの情報\n",
        "#https://drive.google.com/file/d/1xKXbovkEQwdJefzCuaS_a351LUIuRz-1/view?usp=sharing  for  cis.twcu.ac.jp/GitHub_shared/ccap_data.tgz on Gdrive\n",
        "#https://drive.google.com/file/d/1PVwPXiBiRX4Aueqc3MHuosG5mWNnrvVa/view?usp=sharing  for 2022_0605fine_tuned_bit_line_bisection_pasiphae.cpt on Gdrive\n",
        "\n",
        "file_id = '1xKXbovkEQwdJefzCuaS_a351LUIuRz-1'\n",
        "file_id = '1PVwPXiBiRX4Aueqc3MHuosG5mWNnrvVa'\n",
        "file_id = '1W5jPu6xggW1y9oaNuF_SbKEm7ZnwmtQL'\n",
        "downloaded = drive.CreateFile({'id': file_id})\n",
        "downloaded.GetContentFile('2022_0605fine_tuned_bit_line_bisection_pasiphae.cpt')"
      ],
      "metadata": {
        "id": "NAbMaGyAL60Q"
      },
      "execution_count": 2,
      "outputs": []
    },
    {
      "cell_type": "markdown",
      "metadata": {
        "id": "G3Y396uYb1KB"
      },
      "source": [
        "# faster-rcnn 転移学習または微調整を用いた BIT 線分 2 等分課題\n",
        "\n",
        "[BIT] 図版を [Faster RCNN](https://arxiv.org/abs/1506.01497) で微調整して訓練\n",
        "\n",
        "* Faster RCNNについては [Faster-RCNNの仕組みをより深く理解するために](https://medium.com/@whatdhack/a-deeper-look-how-faster-rcnn-works-84081284e1cd) の Media 参照。\n",
        "* [Pytorch 公式チュートリアル文書](https://pytorch.org/tutorials/intermediate/torchvision_tutorial.html) も参照\n",
        "\n",
        "転移学習 transfer learning と微調整 fine tuning については，種々考え方がある。\n",
        "だがここでは，[PyTorch のチュートリアル](https://pytorch.org/tutorials/beginner/transfer_learning_tutorial.html) に従って，\n",
        "最終層だけ入れ替えて，最終直下層以下の結合係数を固定して考える場合を転移学習と呼ぶことにする。\n",
        "全層を再学習することを，微調整と呼ぶことにする。\n",
        "このチュートリアルが参照にしているのは，Karpathy の スタンフォードでの授業 [cs231n の転移学習のノート](https://cs231n.github.io/transfer-learning/) である。\n"
      ]
    },
    {
      "cell_type": "markdown",
      "metadata": {
        "id": "pwfe8g60b1KD"
      },
      "source": [
        "# 1. インストールとインポート\n",
        "<!-- ## Installs and Imports -->\n",
        "\n",
        "## 1.1 下準備\n",
        "\n",
        "必要なライブラリのインストールなど"
      ]
    },
    {
      "cell_type": "code",
      "source": [
        "# 2022_0605 現在，下記の再インストールが必要のようだ\n",
        "# また，訓練時に halt する\n",
        "!pip install --upgrade albumentations\n",
        "#!pip uninstall opencv-python-headless==4.5.5.62\n",
        "#!pip install opencv-python-headless==4.5.2.52\n",
        "!pip install opencv-python-headless --upgrade"
      ],
      "metadata": {
        "id": "p5S5HRKH9DY_",
        "outputId": "5acdf457-3a4e-4838-b935-0252bd3d78b2",
        "colab": {
          "base_uri": "https://localhost:8080/"
        }
      },
      "execution_count": 5,
      "outputs": [
        {
          "output_type": "stream",
          "name": "stdout",
          "text": [
            "Requirement already satisfied: albumentations in /usr/local/lib/python3.11/dist-packages (2.0.7)\n",
            "Requirement already satisfied: numpy>=1.24.4 in /usr/local/lib/python3.11/dist-packages (from albumentations) (2.0.2)\n",
            "Requirement already satisfied: scipy>=1.10.0 in /usr/local/lib/python3.11/dist-packages (from albumentations) (1.15.3)\n",
            "Requirement already satisfied: PyYAML in /usr/local/lib/python3.11/dist-packages (from albumentations) (6.0.2)\n",
            "Requirement already satisfied: pydantic>=2.9.2 in /usr/local/lib/python3.11/dist-packages (from albumentations) (2.11.4)\n",
            "Requirement already satisfied: albucore==0.0.24 in /usr/local/lib/python3.11/dist-packages (from albumentations) (0.0.24)\n",
            "Requirement already satisfied: opencv-python-headless>=4.9.0.80 in /usr/local/lib/python3.11/dist-packages (from albumentations) (4.11.0.86)\n",
            "Requirement already satisfied: stringzilla>=3.10.4 in /usr/local/lib/python3.11/dist-packages (from albucore==0.0.24->albumentations) (3.12.5)\n",
            "Requirement already satisfied: simsimd>=5.9.2 in /usr/local/lib/python3.11/dist-packages (from albucore==0.0.24->albumentations) (6.2.1)\n",
            "Requirement already satisfied: annotated-types>=0.6.0 in /usr/local/lib/python3.11/dist-packages (from pydantic>=2.9.2->albumentations) (0.7.0)\n",
            "Requirement already satisfied: pydantic-core==2.33.2 in /usr/local/lib/python3.11/dist-packages (from pydantic>=2.9.2->albumentations) (2.33.2)\n",
            "Requirement already satisfied: typing-extensions>=4.12.2 in /usr/local/lib/python3.11/dist-packages (from pydantic>=2.9.2->albumentations) (4.13.2)\n",
            "Requirement already satisfied: typing-inspection>=0.4.0 in /usr/local/lib/python3.11/dist-packages (from pydantic>=2.9.2->albumentations) (0.4.0)\n",
            "Requirement already satisfied: opencv-python-headless in /usr/local/lib/python3.11/dist-packages (4.11.0.86)\n",
            "Requirement already satisfied: numpy>=1.21.2 in /usr/local/lib/python3.11/dist-packages (from opencv-python-headless) (2.0.2)\n"
          ]
        }
      ]
    },
    {
      "cell_type": "code",
      "execution_count": 6,
      "metadata": {
        "tags": [],
        "id": "KMPZyEqqb1KE",
        "outputId": "c65171dd-1c74-4bd2-fff8-217dbf161061",
        "colab": {
          "base_uri": "https://localhost:8080/"
        }
      },
      "outputs": [
        {
          "output_type": "stream",
          "name": "stdout",
          "text": [
            "Cloning into 'vision'...\n",
            "remote: Enumerating objects: 636635, done.\u001b[K\n",
            "remote: Counting objects: 100% (1885/1885), done.\u001b[K\n",
            "remote: Compressing objects: 100% (993/993), done.\u001b[K\n",
            "remote: Total 636635 (delta 1612), reused 960 (delta 884), pack-reused 634750 (from 4)\u001b[K\n",
            "Receiving objects: 100% (636635/636635), 1.18 GiB | 29.83 MiB/s, done.\n",
            "Resolving deltas: 100% (595437/595437), done.\n",
            "fatal: not a git repository (or any of the parent directories): .git\n",
            "Collecting japanize_matplotlib\n",
            "  Downloading japanize-matplotlib-1.1.3.tar.gz (4.1 MB)\n",
            "\u001b[2K     \u001b[90m━━━━━━━━━━━━━━━━━━━━━━━━━━━━━━━━━━━━━━━━\u001b[0m \u001b[32m4.1/4.1 MB\u001b[0m \u001b[31m39.1 MB/s\u001b[0m eta \u001b[36m0:00:00\u001b[0m\n",
            "\u001b[?25h  Preparing metadata (setup.py) ... \u001b[?25l\u001b[?25hdone\n",
            "Requirement already satisfied: matplotlib in /usr/local/lib/python3.11/dist-packages (from japanize_matplotlib) (3.10.0)\n",
            "Requirement already satisfied: contourpy>=1.0.1 in /usr/local/lib/python3.11/dist-packages (from matplotlib->japanize_matplotlib) (1.3.2)\n",
            "Requirement already satisfied: cycler>=0.10 in /usr/local/lib/python3.11/dist-packages (from matplotlib->japanize_matplotlib) (0.12.1)\n",
            "Requirement already satisfied: fonttools>=4.22.0 in /usr/local/lib/python3.11/dist-packages (from matplotlib->japanize_matplotlib) (4.58.0)\n",
            "Requirement already satisfied: kiwisolver>=1.3.1 in /usr/local/lib/python3.11/dist-packages (from matplotlib->japanize_matplotlib) (1.4.8)\n",
            "Requirement already satisfied: numpy>=1.23 in /usr/local/lib/python3.11/dist-packages (from matplotlib->japanize_matplotlib) (2.0.2)\n",
            "Requirement already satisfied: packaging>=20.0 in /usr/local/lib/python3.11/dist-packages (from matplotlib->japanize_matplotlib) (24.2)\n",
            "Requirement already satisfied: pillow>=8 in /usr/local/lib/python3.11/dist-packages (from matplotlib->japanize_matplotlib) (11.2.1)\n",
            "Requirement already satisfied: pyparsing>=2.3.1 in /usr/local/lib/python3.11/dist-packages (from matplotlib->japanize_matplotlib) (3.2.3)\n",
            "Requirement already satisfied: python-dateutil>=2.7 in /usr/local/lib/python3.11/dist-packages (from matplotlib->japanize_matplotlib) (2.9.0.post0)\n",
            "Requirement already satisfied: six>=1.5 in /usr/local/lib/python3.11/dist-packages (from python-dateutil>=2.7->matplotlib->japanize_matplotlib) (1.17.0)\n",
            "Building wheels for collected packages: japanize_matplotlib\n",
            "  Building wheel for japanize_matplotlib (setup.py) ... \u001b[?25l\u001b[?25hdone\n",
            "  Created wheel for japanize_matplotlib: filename=japanize_matplotlib-1.1.3-py3-none-any.whl size=4120257 sha256=1ec0fc807e79dd1b0ba09c2b5f6069f14038a5cc56a842b1c5312bef247f4bb4\n",
            "  Stored in directory: /root/.cache/pip/wheels/da/a1/71/b8faeb93276fed10edffcca20746f1ef6f8d9e071eee8425fc\n",
            "Successfully built japanize_matplotlib\n",
            "Installing collected packages: japanize_matplotlib\n",
            "Successfully installed japanize_matplotlib-1.1.3\n",
            "Cloning into 'bit'...\n",
            "remote: Enumerating objects: 337, done.\u001b[K\n",
            "remote: Counting objects: 100% (15/15), done.\u001b[K\n",
            "remote: Compressing objects: 100% (15/15), done.\u001b[K\n",
            "remote: Total 337 (delta 7), reused 0 (delta 0), pack-reused 322 (from 1)\u001b[K\n",
            "Receiving objects: 100% (337/337), 6.05 MiB | 18.61 MiB/s, done.\n",
            "Resolving deltas: 100% (247/247), done.\n",
            "--2025-05-22 23:08:58--  https://noto-website-2.storage.googleapis.com/pkgs/NotoSerifJP.zip\n",
            "Resolving noto-website-2.storage.googleapis.com (noto-website-2.storage.googleapis.com)... 142.250.125.207, 209.85.200.207, 74.125.126.207, ...\n",
            "Connecting to noto-website-2.storage.googleapis.com (noto-website-2.storage.googleapis.com)|142.250.125.207|:443... connected.\n",
            "HTTP request sent, awaiting response... 200 OK\n",
            "Length: 36145566 (34M) [application/zip]\n",
            "Saving to: ‘NotoSerifJP.zip’\n",
            "\n",
            "NotoSerifJP.zip     100%[===================>]  34.47M  68.6MB/s    in 0.5s    \n",
            "\n",
            "2025-05-22 23:08:59 (68.6 MB/s) - ‘NotoSerifJP.zip’ saved [36145566/36145566]\n",
            "\n",
            "--2025-05-22 23:08:59--  https://noto-website-2.storage.googleapis.com/pkgs/NotoSansJP.zip\n",
            "Resolving noto-website-2.storage.googleapis.com (noto-website-2.storage.googleapis.com)... 142.250.125.207, 209.85.200.207, 74.125.126.207, ...\n",
            "Connecting to noto-website-2.storage.googleapis.com (noto-website-2.storage.googleapis.com)|142.250.125.207|:443... connected.\n",
            "HTTP request sent, awaiting response... 200 OK\n",
            "Length: 26466579 (25M) [application/zip]\n",
            "Saving to: ‘NotoSansJP.zip’\n",
            "\n",
            "NotoSansJP.zip      100%[===================>]  25.24M  85.7MB/s    in 0.3s    \n",
            "\n",
            "2025-05-22 23:08:59 (85.7 MB/s) - ‘NotoSansJP.zip’ saved [26466579/26466579]\n",
            "\n",
            "Archive:  NotoSerifJP.zip\n",
            "  inflating: Noto_JP_fonts/LICENSE_OFL.txt  \n",
            "  inflating: Noto_JP_fonts/NotoSerifJP-Black.otf  \n",
            "  inflating: Noto_JP_fonts/NotoSerifJP-Bold.otf  \n",
            "  inflating: Noto_JP_fonts/NotoSerifJP-ExtraLight.otf  \n",
            "  inflating: Noto_JP_fonts/NotoSerifJP-Light.otf  \n",
            "  inflating: Noto_JP_fonts/NotoSerifJP-Medium.otf  \n",
            "  inflating: Noto_JP_fonts/NotoSerifJP-Regular.otf  \n",
            "  inflating: Noto_JP_fonts/NotoSerifJP-SemiBold.otf  \n",
            "  inflating: Noto_JP_fonts/README    \n",
            "Archive:  NotoSansJP.zip\n",
            "  inflating: Noto_JP_fonts/LICENSE_OFL.txt  \n",
            "  inflating: Noto_JP_fonts/NotoSansJP-Black.otf  \n",
            "  inflating: Noto_JP_fonts/NotoSansJP-Bold.otf  \n",
            "  inflating: Noto_JP_fonts/NotoSansJP-DemiLight.otf  \n",
            "  inflating: Noto_JP_fonts/NotoSansJP-Light.otf  \n",
            "  inflating: Noto_JP_fonts/NotoSansJP-Medium.otf  \n",
            "  inflating: Noto_JP_fonts/NotoSansJP-Regular.otf  \n",
            "  inflating: Noto_JP_fonts/NotoSansJP-Thin.otf  \n",
            "  inflating: Noto_JP_fonts/README    \n"
          ]
        }
      ],
      "source": [
        "import os\n",
        "import sys\n",
        "import shutil\n",
        "import typing\n",
        "import cv2\n",
        "import glob\n",
        "from tqdm.notebook import tqdm\n",
        "\n",
        "import IPython\n",
        "isColab = 'google.colab' in str(IPython.get_ipython())\n",
        "\n",
        "if isColab:\n",
        "    from PIL import ImageFont\n",
        "    from glob import glob\n",
        "\n",
        "    !pip install pycocotools --quiet\n",
        "    !git clone https://github.com/pytorch/vision.git\n",
        "    !git checkout v0.3.0\n",
        "\n",
        "    # Download TorchVision repo to use some files from references/detection\n",
        "    # os.symlink(src,dst) にした方が良いかも\n",
        "    !cp vision/references/detection/utils.py ./\n",
        "    !cp vision/references/detection/transforms.py ./\n",
        "    !cp vision/references/detection/coco_eval.py ./\n",
        "    !cp vision/references/detection/engine.py ./\n",
        "    !cp vision/references/detection/coco_utils.py ./\n",
        "\n",
        "    !pip install japanize_matplotlib\n",
        "    #!pip install albumentataions  # 2022_0604 一時的に中断 colab でエラー発生のため\n",
        "\n",
        "    # 自作ライブラリ\n",
        "    !git clone https://github.com/ShinAsakawa/bit.git\n",
        "\n",
        "    # Noto fonts のダウンロードとインストール\n",
        "    !mkdir Noto_JP_fonts\n",
        "    !wget https://noto-website-2.storage.googleapis.com/pkgs/NotoSerifJP.zip\n",
        "    !wget https://noto-website-2.storage.googleapis.com/pkgs/NotoSansJP.zip\n",
        "    !unzip NotoSerifJP.zip -d Noto_JP_fonts\n",
        "    !unzip -o NotoSansJP.zip -d Noto_JP_fonts  # `-o` means overwrite\n",
        "    !mv Noto_JP_fonts bit\n",
        "    !mkdir data\n",
        "\n",
        "    noto_font_dir = './bit/Noto_JP_fonts'\n",
        "    notofonts_fnames = glob(os.path.join(noto_font_dir,'*otf'))\n",
        "    notofonts = {fname.split('/')[-1].split('.')[0]:{'fname':fname} for fname in notofonts_fnames}\n",
        "    for fontname in notofonts.keys():\n",
        "        notofonts[fontname]['data'] = ImageFont.truetype(notofonts[fontname]['fname'])\n",
        "else:\n",
        "    # 自分のリポジトリからシンボリックリンクで代用\n",
        "    for file in ['engine.py', 'utils.py', 'coco_utils.py', 'transforms.py', 'coco_eval.py']:\n",
        "        if not os.path.exists(file):\n",
        "            _file = os.path.join('../2020pytorch_vision.git/reference/detection/', file)\n",
        "            !ln -s ../2020pytorch_vision.git/references/detection/engine.py .\n",
        "            !ln -s ../2020pytorch_vision.git/references/detection/utils.py .\n",
        "            !ln -s ../2020pytorch_vision.git/references/detection/coco_utils.py .\n",
        "            !ln -s ../2020pytorch_vision.git/references/detection/transforms.py .\n",
        "            !ln -s ../2020pytorch_vision.git/references/detection/coco_eval.py .\n",
        "\n",
        "\n",
        "# DETR のサンプルプログラムを借用\n",
        "COLORS = [[0.000, 0.447, 0.741], [0.850, 0.325, 0.098], [0.929, 0.694, 0.125],\n",
        "          [0.494, 0.184, 0.556], [0.466, 0.674, 0.188], [0.301, 0.745, 0.933]]\n",
        "COLORS = COLORS * 100"
      ]
    },
    {
      "cell_type": "markdown",
      "metadata": {
        "id": "aOWNVBjIb1KF"
      },
      "source": [
        "## 1.2 ライブラリのインポート"
      ]
    },
    {
      "cell_type": "code",
      "execution_count": 7,
      "metadata": {
        "id": "WhUrMEyDb1KG"
      },
      "outputs": [],
      "source": [
        "# ライブラリのインポート\n",
        "# python と機械学習のための基本ライブラリ\n",
        "import os\n",
        "import random\n",
        "import numpy as np\n",
        "\n",
        "import matplotlib.pyplot as plt\n",
        "import matplotlib.patches as patches\n",
        "import japanize_matplotlib\n",
        "\n",
        "# torchvision ライブラリ\n",
        "import torch\n",
        "import torchvision\n",
        "from torchvision import transforms as torchtrans\n",
        "from torchvision.models.detection.faster_rcnn import FastRCNNPredictor\n",
        "from torchvision.models.detection import fasterrcnn_resnet50_fpn\n",
        "\n",
        "# ヘルパライブラリをインポート\n",
        "from engine import train_one_epoch, evaluate\n",
        "import utils\n",
        "import transforms as T"
      ]
    },
    {
      "cell_type": "code",
      "source": [
        "if isColab:\n",
        "    !pip install --upgrade ipynbname"
      ],
      "metadata": {
        "id": "w8hzdJNkU45F",
        "outputId": "e69c8931-5f5e-4d31-ac8f-feaaadf259df",
        "colab": {
          "base_uri": "https://localhost:8080/"
        }
      },
      "execution_count": 10,
      "outputs": [
        {
          "output_type": "stream",
          "name": "stdout",
          "text": [
            "Collecting ipynbname\n",
            "  Downloading ipynbname-2024.1.0.0-py3-none-any.whl.metadata (1.9 kB)\n",
            "Requirement already satisfied: ipykernel in /usr/local/lib/python3.11/dist-packages (from ipynbname) (6.17.1)\n",
            "Requirement already satisfied: debugpy>=1.0 in /usr/local/lib/python3.11/dist-packages (from ipykernel->ipynbname) (1.8.0)\n",
            "Requirement already satisfied: ipython>=7.23.1 in /usr/local/lib/python3.11/dist-packages (from ipykernel->ipynbname) (7.34.0)\n",
            "Requirement already satisfied: jupyter-client>=6.1.12 in /usr/local/lib/python3.11/dist-packages (from ipykernel->ipynbname) (6.1.12)\n",
            "Requirement already satisfied: matplotlib-inline>=0.1 in /usr/local/lib/python3.11/dist-packages (from ipykernel->ipynbname) (0.1.7)\n",
            "Requirement already satisfied: nest-asyncio in /usr/local/lib/python3.11/dist-packages (from ipykernel->ipynbname) (1.6.0)\n",
            "Requirement already satisfied: packaging in /usr/local/lib/python3.11/dist-packages (from ipykernel->ipynbname) (24.2)\n",
            "Requirement already satisfied: psutil in /usr/local/lib/python3.11/dist-packages (from ipykernel->ipynbname) (5.9.5)\n",
            "Requirement already satisfied: pyzmq>=17 in /usr/local/lib/python3.11/dist-packages (from ipykernel->ipynbname) (24.0.1)\n",
            "Requirement already satisfied: tornado>=6.1 in /usr/local/lib/python3.11/dist-packages (from ipykernel->ipynbname) (6.4.2)\n",
            "Requirement already satisfied: traitlets>=5.1.0 in /usr/local/lib/python3.11/dist-packages (from ipykernel->ipynbname) (5.7.1)\n",
            "Requirement already satisfied: setuptools>=18.5 in /usr/local/lib/python3.11/dist-packages (from ipython>=7.23.1->ipykernel->ipynbname) (75.2.0)\n",
            "Collecting jedi>=0.16 (from ipython>=7.23.1->ipykernel->ipynbname)\n",
            "  Downloading jedi-0.19.2-py2.py3-none-any.whl.metadata (22 kB)\n",
            "Requirement already satisfied: decorator in /usr/local/lib/python3.11/dist-packages (from ipython>=7.23.1->ipykernel->ipynbname) (4.4.2)\n",
            "Requirement already satisfied: pickleshare in /usr/local/lib/python3.11/dist-packages (from ipython>=7.23.1->ipykernel->ipynbname) (0.7.5)\n",
            "Requirement already satisfied: prompt-toolkit!=3.0.0,!=3.0.1,<3.1.0,>=2.0.0 in /usr/local/lib/python3.11/dist-packages (from ipython>=7.23.1->ipykernel->ipynbname) (3.0.51)\n",
            "Requirement already satisfied: pygments in /usr/local/lib/python3.11/dist-packages (from ipython>=7.23.1->ipykernel->ipynbname) (2.19.1)\n",
            "Requirement already satisfied: backcall in /usr/local/lib/python3.11/dist-packages (from ipython>=7.23.1->ipykernel->ipynbname) (0.2.0)\n",
            "Requirement already satisfied: pexpect>4.3 in /usr/local/lib/python3.11/dist-packages (from ipython>=7.23.1->ipykernel->ipynbname) (4.9.0)\n",
            "Requirement already satisfied: jupyter-core>=4.6.0 in /usr/local/lib/python3.11/dist-packages (from jupyter-client>=6.1.12->ipykernel->ipynbname) (5.7.2)\n",
            "Requirement already satisfied: python-dateutil>=2.1 in /usr/local/lib/python3.11/dist-packages (from jupyter-client>=6.1.12->ipykernel->ipynbname) (2.9.0.post0)\n",
            "Requirement already satisfied: parso<0.9.0,>=0.8.4 in /usr/local/lib/python3.11/dist-packages (from jedi>=0.16->ipython>=7.23.1->ipykernel->ipynbname) (0.8.4)\n",
            "Requirement already satisfied: platformdirs>=2.5 in /usr/local/lib/python3.11/dist-packages (from jupyter-core>=4.6.0->jupyter-client>=6.1.12->ipykernel->ipynbname) (4.3.8)\n",
            "Requirement already satisfied: ptyprocess>=0.5 in /usr/local/lib/python3.11/dist-packages (from pexpect>4.3->ipython>=7.23.1->ipykernel->ipynbname) (0.7.0)\n",
            "Requirement already satisfied: wcwidth in /usr/local/lib/python3.11/dist-packages (from prompt-toolkit!=3.0.0,!=3.0.1,<3.1.0,>=2.0.0->ipython>=7.23.1->ipykernel->ipynbname) (0.2.13)\n",
            "Requirement already satisfied: six>=1.5 in /usr/local/lib/python3.11/dist-packages (from python-dateutil>=2.1->jupyter-client>=6.1.12->ipykernel->ipynbname) (1.17.0)\n",
            "Downloading ipynbname-2024.1.0.0-py3-none-any.whl (4.3 kB)\n",
            "Downloading jedi-0.19.2-py2.py3-none-any.whl (1.6 MB)\n",
            "\u001b[2K   \u001b[90m━━━━━━━━━━━━━━━━━━━━━━━━━━━━━━━━━━━━━━━━\u001b[0m \u001b[32m1.6/1.6 MB\u001b[0m \u001b[31m21.8 MB/s\u001b[0m eta \u001b[36m0:00:00\u001b[0m\n",
            "\u001b[?25hInstalling collected packages: jedi, ipynbname\n",
            "Successfully installed ipynbname-2024.1.0.0 jedi-0.19.2\n"
          ]
        }
      ]
    },
    {
      "cell_type": "code",
      "execution_count": 11,
      "metadata": {
        "id": "NwnrXEyyb1KH",
        "outputId": "9fda18e0-4e7e-490b-9822-b4bf95da9ecc",
        "colab": {
          "base_uri": "https://localhost:8080/"
        }
      },
      "outputs": [
        {
          "output_type": "stream",
          "name": "stdout",
          "text": [
            "The autoreload extension is already loaded. To reload it, use:\n",
            "  %reload_ext autoreload\n",
            "日付: 2025-05-22\n",
            "HOSTNAME: 857e780d076c\n",
            "ユーザ名: root\n",
            "HOME: /root\n",
            "ファイル名: /fileId=https%3A%2F%2Fgithub.com%2FShinAsakawa%2Fbit%2Fblob%2Fmain%2Fnotebooks%2F2022_0617bit_faster_rcnn_fine_tuning.ipynb\n",
            "torch.__version__: 2.6.0+cu124\n"
          ]
        }
      ],
      "source": [
        "%load_ext autoreload\n",
        "%autoreload 2\n",
        "from bit import BIT\n",
        "\n",
        "if isColab:\n",
        "    bit = BIT(fontdata=notofonts)\n",
        "else:\n",
        "    bit = BIT()\n",
        "images, bboxes = bit.make_line_bisection_task_images(N=1, n_lines=3)\n",
        "\n",
        "import PIL\n",
        "def plot_pilimg_and_bbox(pil_img:PIL.Image.Image,\n",
        "                         bboxes:list,\n",
        "                         verbose:bool=False\n",
        "                        ):\n",
        "    \"\"\"bounding box (物体を囲む四角形の境界領域のことを境界領域箱と呼ぶ): bbox\n",
        "    PIL 画像を境界領域と共に表示する関数\"\"\"\n",
        "    plt.figure(figsize=(10,8))\n",
        "    plt.imshow(pil_img)\n",
        "    ax = plt.gca()\n",
        "    for (xmin, ymin, xmax, ymax), c in zip(bboxes, COLORS):\n",
        "        if verbose:\n",
        "            print(f'xmin:{xmin}, ymin:{ymin}')\n",
        "        ax.add_patch(plt.Rectangle((xmin, ymin), xmax - xmin, ymax - ymin,\n",
        "                                   fill=False, color=c, linewidth=2))"
      ]
    },
    {
      "cell_type": "code",
      "source": [
        "from bit import BIT_LineBisection\n",
        "train_dataset = BIT_LineBisection(_symbols=bit.symbols, dirname='bit/data/line_bisection/train')\n",
        "test_dataset = BIT_LineBisection(_symbols=bit.symbols, dirname='bit/data/line_bisection/test')"
      ],
      "metadata": {
        "id": "IInfaydKNoFA"
      },
      "execution_count": 12,
      "outputs": []
    },
    {
      "cell_type": "code",
      "source": [
        "from bit import get_object_detection_model\n",
        "\n",
        "num_classes = len(bit.symbols)\n",
        "print(f'num_classes:{num_classes}, bit.symbols:{bit.symbols}')\n",
        "model = get_object_detection_model(num_classes)"
      ],
      "metadata": {
        "id": "XYTvBV8Y2QiF",
        "outputId": "f4771dc6-291a-457d-9016-fb166f78bc24",
        "colab": {
          "base_uri": "https://localhost:8080/"
        }
      },
      "execution_count": 13,
      "outputs": [
        {
          "output_type": "stream",
          "name": "stdout",
          "text": [
            "num_classes:49, bit.symbols:['<background>', '<line>', '★', 'あ', 'い', 'う', 'え', 'お', 'か', 'き', 'く', 'け', 'こ', 'さ', 'し', 'す', 'せ', 'そ', 'た', 'ち', 'つ', 'て', 'と', 'な', 'に', 'ぬ', 'ね', 'の', 'は', 'ひ', 'ふ', 'へ', 'ほ', 'ま', 'み', 'む', 'め', 'も', 'や', 'ゆ', 'よ', 'ら', 'り', 'る', 'れ', 'ろ', 'わ', 'を', 'ん']\n"
          ]
        },
        {
          "output_type": "stream",
          "name": "stderr",
          "text": [
            "/usr/local/lib/python3.11/dist-packages/torchvision/models/_utils.py:208: UserWarning: The parameter 'pretrained' is deprecated since 0.13 and may be removed in the future, please use 'weights' instead.\n",
            "  warnings.warn(\n",
            "/usr/local/lib/python3.11/dist-packages/torchvision/models/_utils.py:223: UserWarning: Arguments other than a weight enum or `None` for 'weights' are deprecated since 0.13 and may be removed in the future. The current behavior is equivalent to passing `weights=FasterRCNN_ResNet50_FPN_Weights.COCO_V1`. You can also use `weights=FasterRCNN_ResNet50_FPN_Weights.DEFAULT` to get the most up-to-date weights.\n",
            "  warnings.warn(msg)\n",
            "Downloading: \"https://download.pytorch.org/models/fasterrcnn_resnet50_fpn_coco-258fb6c6.pth\" to /root/.cache/torch/hub/checkpoints/fasterrcnn_resnet50_fpn_coco-258fb6c6.pth\n",
            "100%|██████████| 160M/160M [00:01<00:00, 130MB/s]\n"
          ]
        },
        {
          "output_type": "stream",
          "name": "stdout",
          "text": [
            "変換前 model.roi_heads:RoIHeads(\n",
            "  (box_roi_pool): MultiScaleRoIAlign(featmap_names=['0', '1', '2', '3'], output_size=(7, 7), sampling_ratio=2)\n",
            "  (box_head): TwoMLPHead(\n",
            "    (fc6): Linear(in_features=12544, out_features=1024, bias=True)\n",
            "    (fc7): Linear(in_features=1024, out_features=1024, bias=True)\n",
            "  )\n",
            "  (box_predictor): FastRCNNPredictor(\n",
            "    (cls_score): Linear(in_features=1024, out_features=91, bias=True)\n",
            "    (bbox_pred): Linear(in_features=1024, out_features=364, bias=True)\n",
            "  )\n",
            ")\n",
            "変換後 model.roi_heads:RoIHeads(\n",
            "  (box_roi_pool): MultiScaleRoIAlign(featmap_names=['0', '1', '2', '3'], output_size=(7, 7), sampling_ratio=2)\n",
            "  (box_head): TwoMLPHead(\n",
            "    (fc6): Linear(in_features=12544, out_features=1024, bias=True)\n",
            "    (fc7): Linear(in_features=1024, out_features=1024, bias=True)\n",
            "  )\n",
            "  (box_predictor): FastRCNNPredictor(\n",
            "    (cls_score): Linear(in_features=1024, out_features=49, bias=True)\n",
            "    (bbox_pred): Linear(in_features=1024, out_features=196, bias=True)\n",
            "  )\n",
            ")\n"
          ]
        }
      ]
    },
    {
      "cell_type": "code",
      "source": [
        "XXX = torch.load('2022_0605fine_tuned_bit_line_bisection_pasiphae.cpt')\n",
        "model.load_state_dict(XXX['model'])\n",
        "#help(model)"
      ],
      "metadata": {
        "id": "D1v9Zb5hOzsl",
        "outputId": "d27ec157-6b6f-41d8-90b5-3f90623ee9fb",
        "colab": {
          "base_uri": "https://localhost:8080/"
        }
      },
      "execution_count": 14,
      "outputs": [
        {
          "output_type": "execute_result",
          "data": {
            "text/plain": [
              "<All keys matched successfully>"
            ]
          },
          "metadata": {},
          "execution_count": 14
        }
      ]
    },
    {
      "cell_type": "code",
      "source": [
        "def torch_to_pil(img):\n",
        "    \"\"\"torchtensor を PIL 画像に変換する関数\n",
        "    function to convert a torchtensor back to PIL image\"\"\"\n",
        "    return torchtrans.ToPILImage()(img).convert('RGB')\n",
        "\n",
        "# 可能なら GPU 上で学習させる\n",
        "device = torch.device('cuda') if torch.cuda.is_available() else torch.device('cpu')"
      ],
      "metadata": {
        "id": "XP8_6VKFOX2r"
      },
      "execution_count": 15,
      "outputs": []
    },
    {
      "cell_type": "code",
      "source": [
        "from bit import plot_img_bbox\n",
        "\n",
        "_dataset = test_dataset\n",
        "for N in range(_dataset.__len__()):\n",
        "    #N = np.random.choice(len(_dataset)) # テストセットから画像を 1 枚選ぶ\n",
        "    img, target = _dataset[N]\n",
        "    model.eval()\n",
        "    with torch.no_grad():\n",
        "        prediction = model([img.to(device)])[0]\n",
        "\n",
        "    plot_img_bbox(torch_to_pil(img), target, title=\"グランドトルース\")\n",
        "    plot_img_bbox(torch_to_pil(img), prediction, title=\"モデル予測\")"
      ],
      "metadata": {
        "id": "UlD42BOyOa7n"
      },
      "execution_count": null,
      "outputs": []
    }
  ],
  "metadata": {
    "kernelspec": {
      "display_name": "Python 3 (ipykernel)",
      "language": "python",
      "name": "python3"
    },
    "language_info": {
      "codemirror_mode": {
        "name": "ipython",
        "version": 3
      },
      "file_extension": ".py",
      "mimetype": "text/x-python",
      "name": "python",
      "nbconvert_exporter": "python",
      "pygments_lexer": "ipython3",
      "version": "3.9.12"
    },
    "colab": {
      "name": "2022_0604bit_faster-rcnn_fine_tuning.ipynb",
      "provenance": [],
      "machine_shape": "hm",
      "toc_visible": true,
      "include_colab_link": true
    },
    "gpuClass": "standard"
  },
  "nbformat": 4,
  "nbformat_minor": 0
}